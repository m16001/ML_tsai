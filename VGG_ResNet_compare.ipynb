{
 "cells": [
  {
   "cell_type": "code",
   "execution_count": null,
   "metadata": {
    "execution": {
     "iopub.execute_input": "2025-05-21T05:41:25.951573Z",
     "iopub.status.busy": "2025-05-21T05:41:25.951343Z",
     "iopub.status.idle": "2025-05-21T05:41:26.183916Z",
     "shell.execute_reply": "2025-05-21T05:41:26.182706Z",
     "shell.execute_reply.started": "2025-05-21T05:41:25.951546Z"
    },
    "trusted": true
   },
   "outputs": [],
   "source": [
    "!nvidia-smi"
   ]
  },
  {
   "cell_type": "code",
   "execution_count": null,
   "metadata": {
    "execution": {
     "iopub.execute_input": "2025-06-04T03:10:51.955994Z",
     "iopub.status.busy": "2025-06-04T03:10:51.955838Z",
     "iopub.status.idle": "2025-06-04T03:11:10.536456Z",
     "shell.execute_reply": "2025-06-04T03:11:10.535593Z",
     "shell.execute_reply.started": "2025-06-04T03:10:51.955977Z"
    },
    "trusted": true
   },
   "outputs": [],
   "source": [
    "\n",
    "!wget -O food11.zip https://www.dropbox.com/s/up5q1gthsz3v0dq/food-11.zip?dl=0\n"
   ]
  },
  {
   "cell_type": "code",
   "execution_count": null,
   "metadata": {
    "collapsed": true,
    "execution": {
     "iopub.execute_input": "2025-06-04T03:11:15.563769Z",
     "iopub.status.busy": "2025-06-04T03:11:15.563499Z",
     "iopub.status.idle": "2025-06-04T03:11:26.361580Z",
     "shell.execute_reply": "2025-06-04T03:11:26.360698Z",
     "shell.execute_reply.started": "2025-06-04T03:11:15.563743Z"
    },
    "jupyter": {
     "outputs_hidden": true
    },
    "trusted": true
   },
   "outputs": [],
   "source": [
    "! unzip food11.zip"
   ]
  },
  {
   "cell_type": "code",
   "execution_count": null,
   "metadata": {
    "execution": {
     "iopub.execute_input": "2025-06-04T03:11:37.852306Z",
     "iopub.status.busy": "2025-06-04T03:11:37.851998Z",
     "iopub.status.idle": "2025-06-04T03:11:37.856291Z",
     "shell.execute_reply": "2025-06-04T03:11:37.855737Z",
     "shell.execute_reply.started": "2025-06-04T03:11:37.852280Z"
    },
    "trusted": true
   },
   "outputs": [],
   "source": [
    "_exp_name = \"sample\""
   ]
  },
  {
   "cell_type": "code",
   "execution_count": null,
   "metadata": {
    "execution": {
     "iopub.execute_input": "2025-06-04T03:11:40.938976Z",
     "iopub.status.busy": "2025-06-04T03:11:40.938725Z",
     "iopub.status.idle": "2025-06-04T03:11:49.470791Z",
     "shell.execute_reply": "2025-06-04T03:11:49.470250Z",
     "shell.execute_reply.started": "2025-06-04T03:11:40.938956Z"
    },
    "trusted": true
   },
   "outputs": [],
   "source": [
    "import torch\n",
    "import torch.nn as nn\n",
    "import torch.optim as optim\n",
    "import torchvision.transforms as transforms\n",
    "from torch.utils.data import Dataset, DataLoader\n",
    "import torchvision.models as models\n",
    "from tqdm import tqdm\n",
    "from PIL import Image\n",
    "import matplotlib.pyplot as plt\n",
    "import numpy as np\n",
    "import pandas as pd\n",
    "import time\n",
    "import os\n",
    "import random  \n",
    "from torchvision.models import vgg16, resnet18, resnet50\n",
    "\n",
    "myseed = 6666\n",
    "torch.backends.cudnn.deterministic = True\n",
    "torch.backends.cudnn.benchmark = False\n",
    "np.random.seed(myseed)\n",
    "torch.manual_seed(myseed)\n",
    "random.seed(myseed)  # 新增：设置 random 的种子\n",
    "if torch.cuda.is_available():\n",
    "    torch.cuda.manual_seed_all(myseed)\n"
   ]
  },
  {
   "cell_type": "code",
   "execution_count": null,
   "metadata": {
    "execution": {
     "iopub.execute_input": "2025-06-04T03:27:56.723977Z",
     "iopub.status.busy": "2025-06-04T03:27:56.723705Z",
     "iopub.status.idle": "2025-06-04T03:27:56.728278Z",
     "shell.execute_reply": "2025-06-04T03:27:56.727502Z",
     "shell.execute_reply.started": "2025-06-04T03:27:56.723958Z"
    },
    "trusted": true
   },
   "outputs": [],
   "source": [
    "device = \"cuda\" if torch.cuda.is_available() else \"cpu\"\n",
    "batch_size = 64\n",
    "n_epochs = 16 \n",
    "mixup_alpha = 0.4\n",
    "patience = 7  \n",
    "\n",
    "lr = 1e-4\n",
    "weight_decay = 3e-3\n"
   ]
  },
  {
   "cell_type": "code",
   "execution_count": null,
   "metadata": {
    "execution": {
     "iopub.execute_input": "2025-06-04T03:28:01.083574Z",
     "iopub.status.busy": "2025-06-04T03:28:01.083001Z",
     "iopub.status.idle": "2025-06-04T03:28:01.117301Z",
     "shell.execute_reply": "2025-06-04T03:28:01.116764Z",
     "shell.execute_reply.started": "2025-06-04T03:28:01.083549Z"
    },
    "trusted": true
   },
   "outputs": [],
   "source": [
    "# 資料載入（請自行修改 root 路徑）\n",
    "\n",
    "# 原始代码\n",
    "test_tfm = transforms.Compose([\n",
    "    transforms.Resize((224, 224)),\n",
    "    transforms.ToTensor(),\n",
    "    transforms.Normalize([0.485, 0.456, 0.406], [0.229, 0.224, 0.225])\n",
    "])\n",
    "\n",
    "train_tfm = transforms.Compose([\n",
    "    transforms.Resize((224, 224)),\n",
    "    transforms.RandomAffine(degrees=0, translate=(0.1, 0.1), scale=(0.8, 1.2)),\n",
    "    transforms.RandomHorizontalFlip(),\n",
    "    transforms.RandomPerspective(distortion_scale=0.2, p=0.5),\n",
    "    transforms.TrivialAugmentWide(),\n",
    "    transforms.ToTensor(),\n",
    "    transforms.Normalize([0.485, 0.456, 0.406], [0.229, 0.224, 0.225])\n",
    "])\n",
    "class FoodDataset(Dataset):\n",
    "\n",
    "    def __init__(self,path,tfm=test_tfm,files = None):\n",
    "        super(FoodDataset).__init__()\n",
    "        self.path = path\n",
    "        self.files = sorted([os.path.join(path,x) for x in os.listdir(path) if x.endswith(\".jpg\")])\n",
    "        if files != None:\n",
    "            self.files = files\n",
    "\n",
    "        self.transform = tfm\n",
    "\n",
    "    def __len__(self):\n",
    "        return len(self.files)\n",
    "\n",
    "    def __getitem__(self,idx):\n",
    "        fname = self.files[idx]\n",
    "        im = Image.open(fname)\n",
    "        im = self.transform(im)\n",
    "\n",
    "        try:\n",
    "            label = int(fname.split(\"/\")[-1].split(\"_\")[0])\n",
    "        except:\n",
    "            label = -1 # test has no label\n",
    "\n",
    "        return im,label\n",
    "\n",
    "# Construct train and valid and test datasets.\n",
    "# The argument \"loader\" tells how torchvision reads the data.\n",
    "train_set = FoodDataset(\"./train\", tfm=train_tfm)\n",
    "train_loader = DataLoader(train_set, batch_size=batch_size, shuffle=True, num_workers=0, pin_memory=True)\n",
    "valid_set = FoodDataset(\"./valid\", tfm=test_tfm)\n",
    "valid_loader = DataLoader(valid_set, batch_size=batch_size, shuffle=False, num_workers=0, pin_memory=True)\n",
    "test_set = FoodDataset(\"./test\", tfm=test_tfm)\n",
    "test_loader = DataLoader(test_set, batch_size=batch_size, shuffle=False, num_workers=0, pin_memory=True)\n"
   ]
  },
  {
   "cell_type": "code",
   "execution_count": null,
   "metadata": {
    "execution": {
     "iopub.execute_input": "2025-06-04T03:28:05.383363Z",
     "iopub.status.busy": "2025-06-04T03:28:05.382674Z",
     "iopub.status.idle": "2025-06-04T03:28:05.387975Z",
     "shell.execute_reply": "2025-06-04T03:28:05.387321Z",
     "shell.execute_reply.started": "2025-06-04T03:28:05.383339Z"
    },
    "trusted": true
   },
   "outputs": [],
   "source": [
    "def get_model(model_name):\n",
    "    if model_name == 'vgg16':\n",
    "        model = vgg16(weights='IMAGENET1K_V1')\n",
    "        model.classifier[6] = nn.Linear(4096, 11)\n",
    "    elif model_name == 'resnet18':\n",
    "        model = resnet18(weights='IMAGENET1K_V1')\n",
    "        model.fc = nn.Linear(model.fc.in_features, 11)\n",
    "    elif model_name == 'resnet50':\n",
    "        model = resnet50(weights='IMAGENET1K_V1')\n",
    "        model.fc = nn.Linear(model.fc.in_features, 11)\n",
    "    return model.to(device)\n"
   ]
  },
  {
   "cell_type": "markdown",
   "metadata": {},
   "source": [
    "# train_and_evaluate version2"
   ]
  },
  {
   "cell_type": "code",
   "execution_count": null,
   "metadata": {
    "execution": {
     "iopub.execute_input": "2025-06-04T03:28:13.478497Z",
     "iopub.status.busy": "2025-06-04T03:28:13.478225Z",
     "iopub.status.idle": "2025-06-04T03:28:13.490330Z",
     "shell.execute_reply": "2025-06-04T03:28:13.489565Z",
     "shell.execute_reply.started": "2025-06-04T03:28:13.478477Z"
    },
    "trusted": true
   },
   "outputs": [],
   "source": [
    "# === 原本程式碼開始 ===\n",
    "def train_and_evaluate(model_name):\n",
    "    model = get_model(model_name)\n",
    "    optimizer = torch.optim.Adam(model.parameters(), lr=lr, weight_decay=weight_decay)\n",
    "    scheduler = torch.optim.lr_scheduler.CosineAnnealingLR(optimizer, T_max=n_epochs)\n",
    "    criterion = nn.CrossEntropyLoss()\n",
    "\n",
    "    best_acc = 0\n",
    "    stale = 0\n",
    "\n",
    "    train_losses, train_accs = [], []\n",
    "    valid_losses, valid_accs = [], []\n",
    "\n",
    "    # === 新增：記錄學習率與單次訓練時間 ===\n",
    "    lrs = []\n",
    "    epoch_times = []\n",
    "\n",
    "    for epoch in range(n_epochs):\n",
    "        model.train()\n",
    "        train_loss = []\n",
    "        train_acc_epoch = []\n",
    "\n",
    "        start_time = time.time()  # === 新增 ===\n",
    "\n",
    "        for imgs, labels in tqdm(train_loader, desc=f\"[{model_name}] Epoch {epoch+1}\"):\n",
    "            imgs, labels = imgs.to(device), labels.to(device)\n",
    "\n",
    "            # Mixup\n",
    "            lam = np.random.beta(mixup_alpha, mixup_alpha)\n",
    "            index = torch.randperm(imgs.size(0)).to(device)\n",
    "            mixed_imgs = lam * imgs + (1 - lam) * imgs[index]\n",
    "            labels_a, labels_b = labels, labels[index]\n",
    "\n",
    "            logits = model(mixed_imgs)\n",
    "            loss = lam * criterion(logits, labels_a) + (1 - lam) * criterion(logits, labels_b)\n",
    "\n",
    "            optimizer.zero_grad()\n",
    "            loss.backward()\n",
    "            optimizer.step()\n",
    "\n",
    "            acc = (logits.argmax(dim=-1) == labels).float().mean()\n",
    "            train_loss.append(loss.item())\n",
    "            train_acc_epoch.append(acc.item())\n",
    "\n",
    "        train_losses.append(np.mean(train_loss))\n",
    "        train_accs.append(np.mean(train_acc_epoch))\n",
    "\n",
    "        # Validation\n",
    "        model.eval()\n",
    "        valid_loss, valid_acc_epoch = [], []\n",
    "        with torch.no_grad():\n",
    "            for imgs, labels in valid_loader:\n",
    "                imgs, labels = imgs.to(device), labels.to(device)\n",
    "                logits = model(imgs)\n",
    "                loss = criterion(logits, labels)\n",
    "                acc = (logits.argmax(dim=-1) == labels).float().mean()\n",
    "                valid_loss.append(loss.item())\n",
    "                valid_acc_epoch.append(acc.item())\n",
    "\n",
    "        valid_loss_avg = np.mean(valid_loss)\n",
    "        valid_acc_avg = np.mean(valid_acc_epoch)\n",
    "        valid_losses.append(valid_loss_avg)\n",
    "        valid_accs.append(valid_acc_avg)\n",
    "\n",
    "        scheduler.step()\n",
    "        # === 新增：記錄學習率與時間 ===\n",
    "        lrs.append(optimizer.param_groups[0]['lr'])\n",
    "        epoch_times.append(time.time() - start_time)\n",
    "\n",
    "        print(f\"Epoch {epoch+1}: Train acc={train_accs[-1]:.4f}, Valid acc={valid_acc_avg:.4f}\")\n",
    "\n",
    "        if valid_acc_avg > best_acc:\n",
    "            best_acc = valid_acc_avg\n",
    "            torch.save(model.state_dict(), f\"{model_name}_best.ckpt\")\n",
    "            stale = 0\n",
    "        else:\n",
    "            stale += 1\n",
    "            if stale > patience:\n",
    "                print(f\"Early stopping at epoch {epoch+1}\")\n",
    "                break\n",
    "\n",
    "    # === 修改：return 增加學習率與訓練時間 ===\n",
    "    return model, train_losses, train_accs, valid_losses, valid_accs, lrs, epoch_times\n",
    "# === 原本程式碼結束 ===\n"
   ]
  },
  {
   "cell_type": "markdown",
   "metadata": {},
   "source": [
    "# plot version2"
   ]
  },
  {
   "cell_type": "code",
   "execution_count": null,
   "metadata": {
    "execution": {
     "iopub.execute_input": "2025-06-04T03:28:18.661634Z",
     "iopub.status.busy": "2025-06-04T03:28:18.661077Z",
     "iopub.status.idle": "2025-06-04T06:05:28.201398Z",
     "shell.execute_reply": "2025-06-04T06:05:28.200602Z",
     "shell.execute_reply.started": "2025-06-04T03:28:18.661609Z"
    },
    "trusted": true
   },
   "outputs": [],
   "source": [
    "# === 原本程式碼開始 ===\n",
    "from torchvision.models import vgg16, resnet18, resnet50\n",
    "results = {}\n",
    "for model_name in ['vgg16', 'resnet18', 'resnet50']:\n",
    "    model, train_losses, train_accs, valid_losses, valid_accs, lrs, epoch_times = train_and_evaluate(model_name)\n",
    "    results[model_name] = {\n",
    "        \"model\": model,\n",
    "        \"train_losses\": train_losses,\n",
    "        \"train_accs\": train_accs,\n",
    "        \"valid_losses\": valid_losses,\n",
    "        \"valid_accs\": valid_accs,\n",
    "        \"lrs\": lrs,\n",
    "        \"epoch_times\": epoch_times\n",
    "    }\n",
    "\n",
    "    # === 原本繪圖：單一模型 Loss/Acc 圖 ===\n",
    "    plt.figure(figsize=(10,6))\n",
    "    epochs = range(1, len(train_losses) + 1)\n",
    "    plt.plot(epochs, train_losses, label='Train Loss')\n",
    "    plt.plot(epochs, valid_losses, label='Valid Loss')\n",
    "    plt.plot(epochs, train_accs, label='Train Acc')\n",
    "    plt.plot(epochs, valid_accs, label='Valid Acc')\n",
    "    plt.xlabel('Epoch')\n",
    "    plt.ylabel('Value')\n",
    "    plt.title(f'{model_name} Loss and Accuracy')\n",
    "    plt.legend()\n",
    "    plt.grid(True)\n",
    "    plt.savefig(f'/kaggle/working/{model_name}_plot.png')\n",
    "    plt.show()\n",
    "# === 原本程式碼結束 ===\n",
    "\n",
    "# === 新增：兩兩模型比較圖（Loss 和 Accuracy） ===\n",
    "from itertools import combinations\n",
    "\n",
    "for model1, model2 in combinations(results.keys(), 2):\n",
    "    plt.figure(figsize=(10,6))\n",
    "    epochs1 = range(1, len(results[model1]['train_losses']) + 1)\n",
    "    epochs2 = range(1, len(results[model2]['train_losses']) + 1)\n",
    "\n",
    "    plt.plot(epochs1, results[model1]['valid_accs'], label=f'{model1} Valid Acc')\n",
    "    plt.plot(epochs2, results[model2]['valid_accs'], label=f'{model2} Valid Acc')\n",
    "    plt.plot(epochs1, results[model1]['valid_losses'], linestyle='--', label=f'{model1} Valid Loss')\n",
    "    plt.plot(epochs2, results[model2]['valid_losses'], linestyle='--', label=f'{model2} Valid Loss')\n",
    "\n",
    "    plt.xlabel('Epoch')\n",
    "    plt.ylabel('Loss / Accuracy')\n",
    "    plt.title(f'Comparison: {model1} vs {model2}')\n",
    "    plt.legend()\n",
    "    plt.grid(True)\n",
    "    plt.savefig(f'/kaggle/working/compare_{model1}_vs_{model2}.png')\n",
    "    plt.show()\n",
    "\n",
    "# === 新增：學習率與訓練時間圖（所有模型同圖） ===\n",
    "fig, ax1 = plt.subplots(figsize=(12,6))\n",
    "\n",
    "for model_name, result in results.items():\n",
    "    ax1.plot(result['lrs'], label=f'{model_name} LR')\n",
    "\n",
    "ax1.set_xlabel('Epoch')\n",
    "ax1.set_ylabel('Learning Rate')\n",
    "ax1.set_title('Learning Rate Over Epochs')\n",
    "ax1.legend()\n",
    "ax1.grid(True)\n",
    "plt.savefig('/kaggle/working/lr_plot.png')\n",
    "plt.show()\n",
    "\n",
    "# === 新增：訓練時間圖 ===\n",
    "plt.figure(figsize=(12,6))\n",
    "for model_name, result in results.items():\n",
    "    plt.plot(range(1, len(result['epoch_times']) + 1), result['epoch_times'], label=f'{model_name} Time per Epoch')\n",
    "plt.xlabel('Epoch')\n",
    "plt.ylabel('Time (s)')\n",
    "plt.title('Training Time per Epoch')\n",
    "plt.legend()\n",
    "plt.grid(True)\n",
    "plt.savefig('/kaggle/working/time_plot.png')\n",
    "plt.show()\n"
   ]
  },
  {
   "cell_type": "code",
   "execution_count": null,
   "metadata": {
    "execution": {
     "iopub.execute_input": "2025-06-04T06:09:00.724402Z",
     "iopub.status.busy": "2025-06-04T06:09:00.723792Z",
     "iopub.status.idle": "2025-06-04T06:10:10.865327Z",
     "shell.execute_reply": "2025-06-04T06:10:10.864698Z",
     "shell.execute_reply.started": "2025-06-04T06:09:00.724377Z"
    },
    "trusted": true
   },
   "outputs": [],
   "source": [
    "# === 對三個模型都進行測試，並輸出各自的 prediction CSV ===\n",
    "for model_name in ['vgg16', 'resnet18', 'resnet50']:\n",
    "    print(f\"Generating prediction CSV for {model_name}...\")\n",
    "    test_model = results[model_name]['model']\n",
    "    test_model.eval()\n",
    "    preds = []\n",
    "\n",
    "    for batch in tqdm(test_loader):\n",
    "        imgs, _ = batch\n",
    "        imgs = imgs.to(device)\n",
    "        with torch.no_grad():\n",
    "            logits = test_model(imgs)\n",
    "        pred = logits.argmax(dim=-1).cpu().numpy()\n",
    "        preds.extend(pred)\n",
    "\n",
    "    df = pd.DataFrame({\"Id\": [f\"{i:04d}\" for i in range(len(preds))], \"Category\": preds})\n",
    "    df.to_csv(f\"prediction_{model_name}.csv\", index=False)\n"
   ]
  }
 ],
 "metadata": {
  "kaggle": {
   "accelerator": "none",
   "dataSources": [],
   "dockerImageVersionId": 31041,
   "isGpuEnabled": false,
   "isInternetEnabled": true,
   "language": "python",
   "sourceType": "notebook"
  },
  "kernelspec": {
   "display_name": "Python 3",
   "language": "python",
   "name": "python3"
  },
  "language_info": {
   "codemirror_mode": {
    "name": "ipython",
    "version": 3
   },
   "file_extension": ".py",
   "mimetype": "text/x-python",
   "name": "python",
   "nbconvert_exporter": "python",
   "pygments_lexer": "ipython3",
   "version": "3.11.11"
  }
 },
 "nbformat": 4,
 "nbformat_minor": 4
}
